{
 "cells": [
  {
   "cell_type": "code",
   "execution_count": 1,
   "id": "2082cb14",
   "metadata": {},
   "outputs": [
    {
     "data": {
      "text/plain": [
       "7"
      ]
     },
     "execution_count": 1,
     "metadata": {},
     "output_type": "execute_result"
    }
   ],
   "source": [
    "2+5"
   ]
  },
  {
   "cell_type": "markdown",
   "id": "f16f19ed",
   "metadata": {},
   "source": [
    "# Titulo de Editado"
   ]
  },
  {
   "cell_type": "code",
   "execution_count": 3,
   "id": "fbd58c42",
   "metadata": {},
   "outputs": [
    {
     "name": "stdout",
     "output_type": "stream",
     "text": [
      "10\n"
     ]
    }
   ],
   "source": [
    "a = 7\n",
    "b = 3\n",
    "print(a+b)"
   ]
  },
  {
   "cell_type": "markdown",
   "id": "da2420a4",
   "metadata": {},
   "source": [
    "## Carga de modulos"
   ]
  },
  {
   "cell_type": "code",
   "execution_count": 4,
   "id": "843d45f6",
   "metadata": {},
   "outputs": [],
   "source": [
    "import numpy as np\n",
    "import pandas as pd"
   ]
  },
  {
   "cell_type": "code",
   "execution_count": 7,
   "id": "237357f7",
   "metadata": {},
   "outputs": [],
   "source": [
    "s = pd.Series([1,3.5,5,7,9])"
   ]
  },
  {
   "cell_type": "code",
   "execution_count": 8,
   "id": "74e47fa4",
   "metadata": {},
   "outputs": [
    {
     "data": {
      "text/plain": [
       "0    1.0\n",
       "1    3.5\n",
       "2    5.0\n",
       "3    7.0\n",
       "4    9.0\n",
       "dtype: float64"
      ]
     },
     "execution_count": 8,
     "metadata": {},
     "output_type": "execute_result"
    }
   ],
   "source": [
    "s"
   ]
  },
  {
   "cell_type": "code",
   "execution_count": 9,
   "id": "09301899",
   "metadata": {},
   "outputs": [],
   "source": [
    "pd?"
   ]
  },
  {
   "cell_type": "code",
   "execution_count": 10,
   "id": "e0c67be7",
   "metadata": {},
   "outputs": [],
   "source": [
    "pd.Series?"
   ]
  },
  {
   "cell_type": "code",
   "execution_count": 19,
   "id": "805af78d",
   "metadata": {},
   "outputs": [],
   "source": [
    "fechas = pd.date_range(\"20190101\", periods=12, freq=\"3M\")"
   ]
  },
  {
   "cell_type": "code",
   "execution_count": 20,
   "id": "4ddb1ddf",
   "metadata": {},
   "outputs": [
    {
     "data": {
      "text/plain": [
       "DatetimeIndex(['2019-01-31', '2019-04-30', '2019-07-31', '2019-10-31',\n",
       "               '2020-01-31', '2020-04-30', '2020-07-31', '2020-10-31',\n",
       "               '2021-01-31', '2021-04-30', '2021-07-31', '2021-10-31'],\n",
       "              dtype='datetime64[ns]', freq='3M')"
      ]
     },
     "execution_count": 20,
     "metadata": {},
     "output_type": "execute_result"
    }
   ],
   "source": [
    "fechas"
   ]
  },
  {
   "cell_type": "code",
   "execution_count": 18,
   "id": "0aef2494",
   "metadata": {},
   "outputs": [],
   "source": [
    "pd.date_range?"
   ]
  },
  {
   "cell_type": "code",
   "execution_count": 21,
   "id": "73c1d688",
   "metadata": {},
   "outputs": [],
   "source": [
    "df = pd.DataFrame(np.random.rand(12, 4), index=fechas, columns=list(\"ABCD\"))"
   ]
  },
  {
   "cell_type": "code",
   "execution_count": 22,
   "id": "beaef977",
   "metadata": {},
   "outputs": [
    {
     "data": {
      "text/html": [
       "<div>\n",
       "<style scoped>\n",
       "    .dataframe tbody tr th:only-of-type {\n",
       "        vertical-align: middle;\n",
       "    }\n",
       "\n",
       "    .dataframe tbody tr th {\n",
       "        vertical-align: top;\n",
       "    }\n",
       "\n",
       "    .dataframe thead th {\n",
       "        text-align: right;\n",
       "    }\n",
       "</style>\n",
       "<table border=\"1\" class=\"dataframe\">\n",
       "  <thead>\n",
       "    <tr style=\"text-align: right;\">\n",
       "      <th></th>\n",
       "      <th>A</th>\n",
       "      <th>B</th>\n",
       "      <th>C</th>\n",
       "      <th>D</th>\n",
       "    </tr>\n",
       "  </thead>\n",
       "  <tbody>\n",
       "    <tr>\n",
       "      <th>2019-01-31</th>\n",
       "      <td>0.374970</td>\n",
       "      <td>0.759031</td>\n",
       "      <td>0.160152</td>\n",
       "      <td>0.112051</td>\n",
       "    </tr>\n",
       "    <tr>\n",
       "      <th>2019-04-30</th>\n",
       "      <td>0.837350</td>\n",
       "      <td>0.877086</td>\n",
       "      <td>0.683330</td>\n",
       "      <td>0.180622</td>\n",
       "    </tr>\n",
       "    <tr>\n",
       "      <th>2019-07-31</th>\n",
       "      <td>0.997075</td>\n",
       "      <td>0.253917</td>\n",
       "      <td>0.063648</td>\n",
       "      <td>0.040833</td>\n",
       "    </tr>\n",
       "    <tr>\n",
       "      <th>2019-10-31</th>\n",
       "      <td>0.132586</td>\n",
       "      <td>0.659760</td>\n",
       "      <td>0.021694</td>\n",
       "      <td>0.292635</td>\n",
       "    </tr>\n",
       "    <tr>\n",
       "      <th>2020-01-31</th>\n",
       "      <td>0.223210</td>\n",
       "      <td>0.338450</td>\n",
       "      <td>0.217184</td>\n",
       "      <td>0.215772</td>\n",
       "    </tr>\n",
       "    <tr>\n",
       "      <th>2020-04-30</th>\n",
       "      <td>0.375853</td>\n",
       "      <td>0.132109</td>\n",
       "      <td>0.133480</td>\n",
       "      <td>0.107114</td>\n",
       "    </tr>\n",
       "    <tr>\n",
       "      <th>2020-07-31</th>\n",
       "      <td>0.909720</td>\n",
       "      <td>0.775046</td>\n",
       "      <td>0.564939</td>\n",
       "      <td>0.432964</td>\n",
       "    </tr>\n",
       "    <tr>\n",
       "      <th>2020-10-31</th>\n",
       "      <td>0.926448</td>\n",
       "      <td>0.538118</td>\n",
       "      <td>0.180546</td>\n",
       "      <td>0.271537</td>\n",
       "    </tr>\n",
       "    <tr>\n",
       "      <th>2021-01-31</th>\n",
       "      <td>0.299051</td>\n",
       "      <td>0.685609</td>\n",
       "      <td>0.995982</td>\n",
       "      <td>0.920973</td>\n",
       "    </tr>\n",
       "    <tr>\n",
       "      <th>2021-04-30</th>\n",
       "      <td>0.586415</td>\n",
       "      <td>0.274245</td>\n",
       "      <td>0.554393</td>\n",
       "      <td>0.626379</td>\n",
       "    </tr>\n",
       "    <tr>\n",
       "      <th>2021-07-31</th>\n",
       "      <td>0.847583</td>\n",
       "      <td>0.591662</td>\n",
       "      <td>0.005576</td>\n",
       "      <td>0.230840</td>\n",
       "    </tr>\n",
       "    <tr>\n",
       "      <th>2021-10-31</th>\n",
       "      <td>0.990311</td>\n",
       "      <td>0.946543</td>\n",
       "      <td>0.582136</td>\n",
       "      <td>0.501697</td>\n",
       "    </tr>\n",
       "  </tbody>\n",
       "</table>\n",
       "</div>"
      ],
      "text/plain": [
       "                   A         B         C         D\n",
       "2019-01-31  0.374970  0.759031  0.160152  0.112051\n",
       "2019-04-30  0.837350  0.877086  0.683330  0.180622\n",
       "2019-07-31  0.997075  0.253917  0.063648  0.040833\n",
       "2019-10-31  0.132586  0.659760  0.021694  0.292635\n",
       "2020-01-31  0.223210  0.338450  0.217184  0.215772\n",
       "2020-04-30  0.375853  0.132109  0.133480  0.107114\n",
       "2020-07-31  0.909720  0.775046  0.564939  0.432964\n",
       "2020-10-31  0.926448  0.538118  0.180546  0.271537\n",
       "2021-01-31  0.299051  0.685609  0.995982  0.920973\n",
       "2021-04-30  0.586415  0.274245  0.554393  0.626379\n",
       "2021-07-31  0.847583  0.591662  0.005576  0.230840\n",
       "2021-10-31  0.990311  0.946543  0.582136  0.501697"
      ]
     },
     "execution_count": 22,
     "metadata": {},
     "output_type": "execute_result"
    }
   ],
   "source": [
    "df"
   ]
  },
  {
   "cell_type": "code",
   "execution_count": 24,
   "id": "a1ccaeed",
   "metadata": {},
   "outputs": [],
   "source": [
    "df2 = pd.DataFrame(\n",
    "    {\n",
    "        \"A\": 32.0,\n",
    "        \"B\": pd.Timestamp(\"20200319\"),\n",
    "        \"C\": pd.Series(1, index=list(range(4)), dtype=\"float32\"),\n",
    "        \"D\": np.array([3]*4, dtype=\"int32\"),\n",
    "        \"E\": pd.Categorical([\"Boca\", \"River\",\"Racing\",\"Independiente\"]),\n",
    "        \"F\": \"basura\",\n",
    "    }\n",
    ")"
   ]
  },
  {
   "cell_type": "code",
   "execution_count": 25,
   "id": "4e107cfc",
   "metadata": {},
   "outputs": [
    {
     "data": {
      "text/html": [
       "<div>\n",
       "<style scoped>\n",
       "    .dataframe tbody tr th:only-of-type {\n",
       "        vertical-align: middle;\n",
       "    }\n",
       "\n",
       "    .dataframe tbody tr th {\n",
       "        vertical-align: top;\n",
       "    }\n",
       "\n",
       "    .dataframe thead th {\n",
       "        text-align: right;\n",
       "    }\n",
       "</style>\n",
       "<table border=\"1\" class=\"dataframe\">\n",
       "  <thead>\n",
       "    <tr style=\"text-align: right;\">\n",
       "      <th></th>\n",
       "      <th>A</th>\n",
       "      <th>B</th>\n",
       "      <th>C</th>\n",
       "      <th>D</th>\n",
       "      <th>E</th>\n",
       "      <th>F</th>\n",
       "    </tr>\n",
       "  </thead>\n",
       "  <tbody>\n",
       "    <tr>\n",
       "      <th>0</th>\n",
       "      <td>32.0</td>\n",
       "      <td>2020-03-19</td>\n",
       "      <td>1.0</td>\n",
       "      <td>3</td>\n",
       "      <td>Boca</td>\n",
       "      <td>basura</td>\n",
       "    </tr>\n",
       "    <tr>\n",
       "      <th>1</th>\n",
       "      <td>32.0</td>\n",
       "      <td>2020-03-19</td>\n",
       "      <td>1.0</td>\n",
       "      <td>3</td>\n",
       "      <td>River</td>\n",
       "      <td>basura</td>\n",
       "    </tr>\n",
       "    <tr>\n",
       "      <th>2</th>\n",
       "      <td>32.0</td>\n",
       "      <td>2020-03-19</td>\n",
       "      <td>1.0</td>\n",
       "      <td>3</td>\n",
       "      <td>Racing</td>\n",
       "      <td>basura</td>\n",
       "    </tr>\n",
       "    <tr>\n",
       "      <th>3</th>\n",
       "      <td>32.0</td>\n",
       "      <td>2020-03-19</td>\n",
       "      <td>1.0</td>\n",
       "      <td>3</td>\n",
       "      <td>Independiente</td>\n",
       "      <td>basura</td>\n",
       "    </tr>\n",
       "  </tbody>\n",
       "</table>\n",
       "</div>"
      ],
      "text/plain": [
       "      A          B    C  D              E       F\n",
       "0  32.0 2020-03-19  1.0  3           Boca  basura\n",
       "1  32.0 2020-03-19  1.0  3          River  basura\n",
       "2  32.0 2020-03-19  1.0  3         Racing  basura\n",
       "3  32.0 2020-03-19  1.0  3  Independiente  basura"
      ]
     },
     "execution_count": 25,
     "metadata": {},
     "output_type": "execute_result"
    }
   ],
   "source": [
    "df2"
   ]
  },
  {
   "cell_type": "code",
   "execution_count": 26,
   "id": "bc9eca56",
   "metadata": {},
   "outputs": [
    {
     "data": {
      "text/plain": [
       "A           float64\n",
       "B    datetime64[ns]\n",
       "C           float32\n",
       "D             int32\n",
       "E          category\n",
       "F            object\n",
       "dtype: object"
      ]
     },
     "execution_count": 26,
     "metadata": {},
     "output_type": "execute_result"
    }
   ],
   "source": [
    "df2.dtypes"
   ]
  },
  {
   "cell_type": "code",
   "execution_count": 27,
   "id": "af0a1ec7",
   "metadata": {},
   "outputs": [
    {
     "data": {
      "text/plain": [
       "'Hola Hola Hola Hola Hola '"
      ]
     },
     "execution_count": 27,
     "metadata": {},
     "output_type": "execute_result"
    }
   ],
   "source": [
    "\"Hola \"*5"
   ]
  },
  {
   "cell_type": "code",
   "execution_count": 30,
   "id": "d29b81d8",
   "metadata": {},
   "outputs": [],
   "source": [
    "df2?"
   ]
  },
  {
   "cell_type": "code",
   "execution_count": 32,
   "id": "d8c38ccd",
   "metadata": {},
   "outputs": [
    {
     "data": {
      "text/html": [
       "<div>\n",
       "<style scoped>\n",
       "    .dataframe tbody tr th:only-of-type {\n",
       "        vertical-align: middle;\n",
       "    }\n",
       "\n",
       "    .dataframe tbody tr th {\n",
       "        vertical-align: top;\n",
       "    }\n",
       "\n",
       "    .dataframe thead th {\n",
       "        text-align: right;\n",
       "    }\n",
       "</style>\n",
       "<table border=\"1\" class=\"dataframe\">\n",
       "  <thead>\n",
       "    <tr style=\"text-align: right;\">\n",
       "      <th></th>\n",
       "      <th>A</th>\n",
       "      <th>B</th>\n",
       "      <th>C</th>\n",
       "      <th>D</th>\n",
       "    </tr>\n",
       "  </thead>\n",
       "  <tbody>\n",
       "    <tr>\n",
       "      <th>2019-01-31</th>\n",
       "      <td>0.374970</td>\n",
       "      <td>0.759031</td>\n",
       "      <td>0.160152</td>\n",
       "      <td>0.112051</td>\n",
       "    </tr>\n",
       "    <tr>\n",
       "      <th>2019-04-30</th>\n",
       "      <td>0.837350</td>\n",
       "      <td>0.877086</td>\n",
       "      <td>0.683330</td>\n",
       "      <td>0.180622</td>\n",
       "    </tr>\n",
       "    <tr>\n",
       "      <th>2019-07-31</th>\n",
       "      <td>0.997075</td>\n",
       "      <td>0.253917</td>\n",
       "      <td>0.063648</td>\n",
       "      <td>0.040833</td>\n",
       "    </tr>\n",
       "    <tr>\n",
       "      <th>2019-10-31</th>\n",
       "      <td>0.132586</td>\n",
       "      <td>0.659760</td>\n",
       "      <td>0.021694</td>\n",
       "      <td>0.292635</td>\n",
       "    </tr>\n",
       "    <tr>\n",
       "      <th>2020-01-31</th>\n",
       "      <td>0.223210</td>\n",
       "      <td>0.338450</td>\n",
       "      <td>0.217184</td>\n",
       "      <td>0.215772</td>\n",
       "    </tr>\n",
       "  </tbody>\n",
       "</table>\n",
       "</div>"
      ],
      "text/plain": [
       "                   A         B         C         D\n",
       "2019-01-31  0.374970  0.759031  0.160152  0.112051\n",
       "2019-04-30  0.837350  0.877086  0.683330  0.180622\n",
       "2019-07-31  0.997075  0.253917  0.063648  0.040833\n",
       "2019-10-31  0.132586  0.659760  0.021694  0.292635\n",
       "2020-01-31  0.223210  0.338450  0.217184  0.215772"
      ]
     },
     "execution_count": 32,
     "metadata": {},
     "output_type": "execute_result"
    }
   ],
   "source": [
    "df.head()"
   ]
  },
  {
   "cell_type": "code",
   "execution_count": 33,
   "id": "44785b54",
   "metadata": {},
   "outputs": [
    {
     "data": {
      "text/html": [
       "<div>\n",
       "<style scoped>\n",
       "    .dataframe tbody tr th:only-of-type {\n",
       "        vertical-align: middle;\n",
       "    }\n",
       "\n",
       "    .dataframe tbody tr th {\n",
       "        vertical-align: top;\n",
       "    }\n",
       "\n",
       "    .dataframe thead th {\n",
       "        text-align: right;\n",
       "    }\n",
       "</style>\n",
       "<table border=\"1\" class=\"dataframe\">\n",
       "  <thead>\n",
       "    <tr style=\"text-align: right;\">\n",
       "      <th></th>\n",
       "      <th>A</th>\n",
       "      <th>B</th>\n",
       "      <th>C</th>\n",
       "      <th>D</th>\n",
       "    </tr>\n",
       "  </thead>\n",
       "  <tbody>\n",
       "    <tr>\n",
       "      <th>2021-04-30</th>\n",
       "      <td>0.586415</td>\n",
       "      <td>0.274245</td>\n",
       "      <td>0.554393</td>\n",
       "      <td>0.626379</td>\n",
       "    </tr>\n",
       "    <tr>\n",
       "      <th>2021-07-31</th>\n",
       "      <td>0.847583</td>\n",
       "      <td>0.591662</td>\n",
       "      <td>0.005576</td>\n",
       "      <td>0.230840</td>\n",
       "    </tr>\n",
       "    <tr>\n",
       "      <th>2021-10-31</th>\n",
       "      <td>0.990311</td>\n",
       "      <td>0.946543</td>\n",
       "      <td>0.582136</td>\n",
       "      <td>0.501697</td>\n",
       "    </tr>\n",
       "  </tbody>\n",
       "</table>\n",
       "</div>"
      ],
      "text/plain": [
       "                   A         B         C         D\n",
       "2021-04-30  0.586415  0.274245  0.554393  0.626379\n",
       "2021-07-31  0.847583  0.591662  0.005576  0.230840\n",
       "2021-10-31  0.990311  0.946543  0.582136  0.501697"
      ]
     },
     "execution_count": 33,
     "metadata": {},
     "output_type": "execute_result"
    }
   ],
   "source": [
    "df.tail(3)"
   ]
  },
  {
   "cell_type": "code",
   "execution_count": null,
   "id": "4e940af7",
   "metadata": {},
   "outputs": [],
   "source": []
  }
 ],
 "metadata": {
  "kernelspec": {
   "display_name": "Python 3 (ipykernel)",
   "language": "python",
   "name": "python3"
  },
  "language_info": {
   "codemirror_mode": {
    "name": "ipython",
    "version": 3
   },
   "file_extension": ".py",
   "mimetype": "text/x-python",
   "name": "python",
   "nbconvert_exporter": "python",
   "pygments_lexer": "ipython3",
   "version": "3.9.12"
  }
 },
 "nbformat": 4,
 "nbformat_minor": 5
}
